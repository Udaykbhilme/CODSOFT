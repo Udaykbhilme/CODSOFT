{
  "nbformat": 4,
  "nbformat_minor": 0,
  "metadata": {
    "colab": {
      "provenance": [],
      "authorship_tag": "ABX9TyNMcTi7lCvuj9UjnThSK5kT",
      "include_colab_link": true
    },
    "kernelspec": {
      "name": "python3",
      "display_name": "Python 3"
    },
    "language_info": {
      "name": "python"
    }
  },
  "cells": [
    {
      "cell_type": "markdown",
      "metadata": {
        "id": "view-in-github",
        "colab_type": "text"
      },
      "source": [
        "<a href=\"https://colab.research.google.com/github/Udaykbhilme/CODSOFT/blob/main/task_2.ipynb\" target=\"_parent\"><img src=\"https://colab.research.google.com/assets/colab-badge.svg\" alt=\"Open In Colab\"/></a>"
      ]
    },
    {
      "cell_type": "code",
      "execution_count": null,
      "metadata": {
        "id": "B7Uy9BTUXpeB"
      },
      "outputs": [],
      "source": []
    },
    {
      "cell_type": "markdown",
      "source": [
        "## *Importing Important Libraries*"
      ],
      "metadata": {
        "id": "TnuHcB4_X70x"
      }
    },
    {
      "cell_type": "code",
      "source": [
        "import numpy as np\n",
        "import pandas as pd\n",
        "import matplotlib.pyplot as plt\n",
        "import seaborn as sns"
      ],
      "metadata": {
        "id": "MrFIxHEdYDsU"
      },
      "execution_count": null,
      "outputs": []
    },
    {
      "cell_type": "markdown",
      "source": [
        "## *Importing the dataset*"
      ],
      "metadata": {
        "id": "8W0djl9lYLMI"
      }
    },
    {
      "cell_type": "code",
      "source": [
        "df_movie = pd.read_csv('IMDb_Movies_India.csv', encoding='latin-1')\n",
        "df_movie.dropna(inplace=True)\n",
        "df_movie.head()"
      ],
      "metadata": {
        "colab": {
          "base_uri": "https://localhost:8080/",
          "height": 206
        },
        "id": "NgOnGT81YHR-",
        "outputId": "f07e9aa2-c9d3-4b99-beba-c2867d61c9d5"
      },
      "execution_count": null,
      "outputs": [
        {
          "output_type": "execute_result",
          "data": {
            "text/plain": [
              "                                 Name    Year Duration  \\\n",
              "1  #Gadhvi (He thought he was Gandhi)  (2019)  109 min   \n",
              "3                             #Yaaram  (2019)  110 min   \n",
              "5                ...Aur Pyaar Ho Gaya  (1997)  147 min   \n",
              "6                           ...Yahaan  (2005)  142 min   \n",
              "8                  ?: A Question Mark  (2012)   82 min   \n",
              "\n",
              "                       Genre  Rating  Votes        Director          Actor 1  \\\n",
              "1                      Drama     7.0      8   Gaurav Bakshi     Rasika Dugal   \n",
              "3            Comedy, Romance     4.4     35      Ovais Khan          Prateik   \n",
              "5     Comedy, Drama, Musical     4.7    827    Rahul Rawail       Bobby Deol   \n",
              "6        Drama, Romance, War     7.4  1,086  Shoojit Sircar  Jimmy Sheirgill   \n",
              "8  Horror, Mystery, Thriller     5.6    326   Allyson Patel        Yash Dave   \n",
              "\n",
              "                  Actor 2          Actor 3  \n",
              "1          Vivek Ghamande    Arvind Jangid  \n",
              "3              Ishita Raj  Siddhant Kapoor  \n",
              "5  Aishwarya Rai Bachchan    Shammi Kapoor  \n",
              "6          Minissha Lamba   Yashpal Sharma  \n",
              "8          Muntazir Ahmad     Kiran Bhatia  "
            ],
            "text/html": [
              "\n",
              "  <div id=\"df-c70cf470-b898-4b21-9858-0c968b3c4595\" class=\"colab-df-container\">\n",
              "    <div>\n",
              "<style scoped>\n",
              "    .dataframe tbody tr th:only-of-type {\n",
              "        vertical-align: middle;\n",
              "    }\n",
              "\n",
              "    .dataframe tbody tr th {\n",
              "        vertical-align: top;\n",
              "    }\n",
              "\n",
              "    .dataframe thead th {\n",
              "        text-align: right;\n",
              "    }\n",
              "</style>\n",
              "<table border=\"1\" class=\"dataframe\">\n",
              "  <thead>\n",
              "    <tr style=\"text-align: right;\">\n",
              "      <th></th>\n",
              "      <th>Name</th>\n",
              "      <th>Year</th>\n",
              "      <th>Duration</th>\n",
              "      <th>Genre</th>\n",
              "      <th>Rating</th>\n",
              "      <th>Votes</th>\n",
              "      <th>Director</th>\n",
              "      <th>Actor 1</th>\n",
              "      <th>Actor 2</th>\n",
              "      <th>Actor 3</th>\n",
              "    </tr>\n",
              "  </thead>\n",
              "  <tbody>\n",
              "    <tr>\n",
              "      <th>1</th>\n",
              "      <td>#Gadhvi (He thought he was Gandhi)</td>\n",
              "      <td>(2019)</td>\n",
              "      <td>109 min</td>\n",
              "      <td>Drama</td>\n",
              "      <td>7.0</td>\n",
              "      <td>8</td>\n",
              "      <td>Gaurav Bakshi</td>\n",
              "      <td>Rasika Dugal</td>\n",
              "      <td>Vivek Ghamande</td>\n",
              "      <td>Arvind Jangid</td>\n",
              "    </tr>\n",
              "    <tr>\n",
              "      <th>3</th>\n",
              "      <td>#Yaaram</td>\n",
              "      <td>(2019)</td>\n",
              "      <td>110 min</td>\n",
              "      <td>Comedy, Romance</td>\n",
              "      <td>4.4</td>\n",
              "      <td>35</td>\n",
              "      <td>Ovais Khan</td>\n",
              "      <td>Prateik</td>\n",
              "      <td>Ishita Raj</td>\n",
              "      <td>Siddhant Kapoor</td>\n",
              "    </tr>\n",
              "    <tr>\n",
              "      <th>5</th>\n",
              "      <td>...Aur Pyaar Ho Gaya</td>\n",
              "      <td>(1997)</td>\n",
              "      <td>147 min</td>\n",
              "      <td>Comedy, Drama, Musical</td>\n",
              "      <td>4.7</td>\n",
              "      <td>827</td>\n",
              "      <td>Rahul Rawail</td>\n",
              "      <td>Bobby Deol</td>\n",
              "      <td>Aishwarya Rai Bachchan</td>\n",
              "      <td>Shammi Kapoor</td>\n",
              "    </tr>\n",
              "    <tr>\n",
              "      <th>6</th>\n",
              "      <td>...Yahaan</td>\n",
              "      <td>(2005)</td>\n",
              "      <td>142 min</td>\n",
              "      <td>Drama, Romance, War</td>\n",
              "      <td>7.4</td>\n",
              "      <td>1,086</td>\n",
              "      <td>Shoojit Sircar</td>\n",
              "      <td>Jimmy Sheirgill</td>\n",
              "      <td>Minissha Lamba</td>\n",
              "      <td>Yashpal Sharma</td>\n",
              "    </tr>\n",
              "    <tr>\n",
              "      <th>8</th>\n",
              "      <td>?: A Question Mark</td>\n",
              "      <td>(2012)</td>\n",
              "      <td>82 min</td>\n",
              "      <td>Horror, Mystery, Thriller</td>\n",
              "      <td>5.6</td>\n",
              "      <td>326</td>\n",
              "      <td>Allyson Patel</td>\n",
              "      <td>Yash Dave</td>\n",
              "      <td>Muntazir Ahmad</td>\n",
              "      <td>Kiran Bhatia</td>\n",
              "    </tr>\n",
              "  </tbody>\n",
              "</table>\n",
              "</div>\n",
              "    <div class=\"colab-df-buttons\">\n",
              "\n",
              "  <div class=\"colab-df-container\">\n",
              "    <button class=\"colab-df-convert\" onclick=\"convertToInteractive('df-c70cf470-b898-4b21-9858-0c968b3c4595')\"\n",
              "            title=\"Convert this dataframe to an interactive table.\"\n",
              "            style=\"display:none;\">\n",
              "\n",
              "  <svg xmlns=\"http://www.w3.org/2000/svg\" height=\"24px\" viewBox=\"0 -960 960 960\">\n",
              "    <path d=\"M120-120v-720h720v720H120Zm60-500h600v-160H180v160Zm220 220h160v-160H400v160Zm0 220h160v-160H400v160ZM180-400h160v-160H180v160Zm440 0h160v-160H620v160ZM180-180h160v-160H180v160Zm440 0h160v-160H620v160Z\"/>\n",
              "  </svg>\n",
              "    </button>\n",
              "\n",
              "  <style>\n",
              "    .colab-df-container {\n",
              "      display:flex;\n",
              "      gap: 12px;\n",
              "    }\n",
              "\n",
              "    .colab-df-convert {\n",
              "      background-color: #E8F0FE;\n",
              "      border: none;\n",
              "      border-radius: 50%;\n",
              "      cursor: pointer;\n",
              "      display: none;\n",
              "      fill: #1967D2;\n",
              "      height: 32px;\n",
              "      padding: 0 0 0 0;\n",
              "      width: 32px;\n",
              "    }\n",
              "\n",
              "    .colab-df-convert:hover {\n",
              "      background-color: #E2EBFA;\n",
              "      box-shadow: 0px 1px 2px rgba(60, 64, 67, 0.3), 0px 1px 3px 1px rgba(60, 64, 67, 0.15);\n",
              "      fill: #174EA6;\n",
              "    }\n",
              "\n",
              "    .colab-df-buttons div {\n",
              "      margin-bottom: 4px;\n",
              "    }\n",
              "\n",
              "    [theme=dark] .colab-df-convert {\n",
              "      background-color: #3B4455;\n",
              "      fill: #D2E3FC;\n",
              "    }\n",
              "\n",
              "    [theme=dark] .colab-df-convert:hover {\n",
              "      background-color: #434B5C;\n",
              "      box-shadow: 0px 1px 3px 1px rgba(0, 0, 0, 0.15);\n",
              "      filter: drop-shadow(0px 1px 2px rgba(0, 0, 0, 0.3));\n",
              "      fill: #FFFFFF;\n",
              "    }\n",
              "  </style>\n",
              "\n",
              "    <script>\n",
              "      const buttonEl =\n",
              "        document.querySelector('#df-c70cf470-b898-4b21-9858-0c968b3c4595 button.colab-df-convert');\n",
              "      buttonEl.style.display =\n",
              "        google.colab.kernel.accessAllowed ? 'block' : 'none';\n",
              "\n",
              "      async function convertToInteractive(key) {\n",
              "        const element = document.querySelector('#df-c70cf470-b898-4b21-9858-0c968b3c4595');\n",
              "        const dataTable =\n",
              "          await google.colab.kernel.invokeFunction('convertToInteractive',\n",
              "                                                    [key], {});\n",
              "        if (!dataTable) return;\n",
              "\n",
              "        const docLinkHtml = 'Like what you see? Visit the ' +\n",
              "          '<a target=\"_blank\" href=https://colab.research.google.com/notebooks/data_table.ipynb>data table notebook</a>'\n",
              "          + ' to learn more about interactive tables.';\n",
              "        element.innerHTML = '';\n",
              "        dataTable['output_type'] = 'display_data';\n",
              "        await google.colab.output.renderOutput(dataTable, element);\n",
              "        const docLink = document.createElement('div');\n",
              "        docLink.innerHTML = docLinkHtml;\n",
              "        element.appendChild(docLink);\n",
              "      }\n",
              "    </script>\n",
              "  </div>\n",
              "\n",
              "\n",
              "<div id=\"df-a07cf82e-8923-453a-a99d-ba51c0ec610b\">\n",
              "  <button class=\"colab-df-quickchart\" onclick=\"quickchart('df-a07cf82e-8923-453a-a99d-ba51c0ec610b')\"\n",
              "            title=\"Suggest charts\"\n",
              "            style=\"display:none;\">\n",
              "\n",
              "<svg xmlns=\"http://www.w3.org/2000/svg\" height=\"24px\"viewBox=\"0 0 24 24\"\n",
              "     width=\"24px\">\n",
              "    <g>\n",
              "        <path d=\"M19 3H5c-1.1 0-2 .9-2 2v14c0 1.1.9 2 2 2h14c1.1 0 2-.9 2-2V5c0-1.1-.9-2-2-2zM9 17H7v-7h2v7zm4 0h-2V7h2v10zm4 0h-2v-4h2v4z\"/>\n",
              "    </g>\n",
              "</svg>\n",
              "  </button>\n",
              "\n",
              "<style>\n",
              "  .colab-df-quickchart {\n",
              "      --bg-color: #E8F0FE;\n",
              "      --fill-color: #1967D2;\n",
              "      --hover-bg-color: #E2EBFA;\n",
              "      --hover-fill-color: #174EA6;\n",
              "      --disabled-fill-color: #AAA;\n",
              "      --disabled-bg-color: #DDD;\n",
              "  }\n",
              "\n",
              "  [theme=dark] .colab-df-quickchart {\n",
              "      --bg-color: #3B4455;\n",
              "      --fill-color: #D2E3FC;\n",
              "      --hover-bg-color: #434B5C;\n",
              "      --hover-fill-color: #FFFFFF;\n",
              "      --disabled-bg-color: #3B4455;\n",
              "      --disabled-fill-color: #666;\n",
              "  }\n",
              "\n",
              "  .colab-df-quickchart {\n",
              "    background-color: var(--bg-color);\n",
              "    border: none;\n",
              "    border-radius: 50%;\n",
              "    cursor: pointer;\n",
              "    display: none;\n",
              "    fill: var(--fill-color);\n",
              "    height: 32px;\n",
              "    padding: 0;\n",
              "    width: 32px;\n",
              "  }\n",
              "\n",
              "  .colab-df-quickchart:hover {\n",
              "    background-color: var(--hover-bg-color);\n",
              "    box-shadow: 0 1px 2px rgba(60, 64, 67, 0.3), 0 1px 3px 1px rgba(60, 64, 67, 0.15);\n",
              "    fill: var(--button-hover-fill-color);\n",
              "  }\n",
              "\n",
              "  .colab-df-quickchart-complete:disabled,\n",
              "  .colab-df-quickchart-complete:disabled:hover {\n",
              "    background-color: var(--disabled-bg-color);\n",
              "    fill: var(--disabled-fill-color);\n",
              "    box-shadow: none;\n",
              "  }\n",
              "\n",
              "  .colab-df-spinner {\n",
              "    border: 2px solid var(--fill-color);\n",
              "    border-color: transparent;\n",
              "    border-bottom-color: var(--fill-color);\n",
              "    animation:\n",
              "      spin 1s steps(1) infinite;\n",
              "  }\n",
              "\n",
              "  @keyframes spin {\n",
              "    0% {\n",
              "      border-color: transparent;\n",
              "      border-bottom-color: var(--fill-color);\n",
              "      border-left-color: var(--fill-color);\n",
              "    }\n",
              "    20% {\n",
              "      border-color: transparent;\n",
              "      border-left-color: var(--fill-color);\n",
              "      border-top-color: var(--fill-color);\n",
              "    }\n",
              "    30% {\n",
              "      border-color: transparent;\n",
              "      border-left-color: var(--fill-color);\n",
              "      border-top-color: var(--fill-color);\n",
              "      border-right-color: var(--fill-color);\n",
              "    }\n",
              "    40% {\n",
              "      border-color: transparent;\n",
              "      border-right-color: var(--fill-color);\n",
              "      border-top-color: var(--fill-color);\n",
              "    }\n",
              "    60% {\n",
              "      border-color: transparent;\n",
              "      border-right-color: var(--fill-color);\n",
              "    }\n",
              "    80% {\n",
              "      border-color: transparent;\n",
              "      border-right-color: var(--fill-color);\n",
              "      border-bottom-color: var(--fill-color);\n",
              "    }\n",
              "    90% {\n",
              "      border-color: transparent;\n",
              "      border-bottom-color: var(--fill-color);\n",
              "    }\n",
              "  }\n",
              "</style>\n",
              "\n",
              "  <script>\n",
              "    async function quickchart(key) {\n",
              "      const quickchartButtonEl =\n",
              "        document.querySelector('#' + key + ' button');\n",
              "      quickchartButtonEl.disabled = true;  // To prevent multiple clicks.\n",
              "      quickchartButtonEl.classList.add('colab-df-spinner');\n",
              "      try {\n",
              "        const charts = await google.colab.kernel.invokeFunction(\n",
              "            'suggestCharts', [key], {});\n",
              "      } catch (error) {\n",
              "        console.error('Error during call to suggestCharts:', error);\n",
              "      }\n",
              "      quickchartButtonEl.classList.remove('colab-df-spinner');\n",
              "      quickchartButtonEl.classList.add('colab-df-quickchart-complete');\n",
              "    }\n",
              "    (() => {\n",
              "      let quickchartButtonEl =\n",
              "        document.querySelector('#df-a07cf82e-8923-453a-a99d-ba51c0ec610b button');\n",
              "      quickchartButtonEl.style.display =\n",
              "        google.colab.kernel.accessAllowed ? 'block' : 'none';\n",
              "    })();\n",
              "  </script>\n",
              "</div>\n",
              "\n",
              "    </div>\n",
              "  </div>\n"
            ],
            "application/vnd.google.colaboratory.intrinsic+json": {
              "type": "dataframe",
              "variable_name": "df_movie",
              "summary": "{\n  \"name\": \"df_movie\",\n  \"rows\": 5659,\n  \"fields\": [\n    {\n      \"column\": \"Name\",\n      \"properties\": {\n        \"dtype\": \"string\",\n        \"num_unique_values\": 5385,\n        \"samples\": [\n          \"Railway Raju\",\n          \"Gambeeram\",\n          \"Hai Golmaal in White House\"\n        ],\n        \"semantic_type\": \"\",\n        \"description\": \"\"\n      }\n    },\n    {\n      \"column\": \"Year\",\n      \"properties\": {\n        \"dtype\": \"category\",\n        \"num_unique_values\": 91,\n        \"samples\": [\n          \"(1990)\",\n          \"(1974)\",\n          \"(1970)\"\n        ],\n        \"semantic_type\": \"\",\n        \"description\": \"\"\n      }\n    },\n    {\n      \"column\": \"Duration\",\n      \"properties\": {\n        \"dtype\": \"category\",\n        \"num_unique_values\": 174,\n        \"samples\": [\n          \"197 min\",\n          \"247 min\",\n          \"86 min\"\n        ],\n        \"semantic_type\": \"\",\n        \"description\": \"\"\n      }\n    },\n    {\n      \"column\": \"Genre\",\n      \"properties\": {\n        \"dtype\": \"category\",\n        \"num_unique_values\": 376,\n        \"samples\": [\n          \"Action, Romance, Drama\",\n          \"Comedy, Musical, Mystery\",\n          \"Musical, Comedy, Romance\"\n        ],\n        \"semantic_type\": \"\",\n        \"description\": \"\"\n      }\n    },\n    {\n      \"column\": \"Rating\",\n      \"properties\": {\n        \"dtype\": \"number\",\n        \"std\": 1.381165141663233,\n        \"min\": 1.1,\n        \"max\": 10.0,\n        \"num_unique_values\": 83,\n        \"samples\": [\n          8.4,\n          7.0,\n          5.5\n        ],\n        \"semantic_type\": \"\",\n        \"description\": \"\"\n      }\n    },\n    {\n      \"column\": \"Votes\",\n      \"properties\": {\n        \"dtype\": \"category\",\n        \"num_unique_values\": 2027,\n        \"samples\": [\n          \"2,534\",\n          \"8,372\",\n          \"21,773\"\n        ],\n        \"semantic_type\": \"\",\n        \"description\": \"\"\n      }\n    },\n    {\n      \"column\": \"Director\",\n      \"properties\": {\n        \"dtype\": \"category\",\n        \"num_unique_values\": 2431,\n        \"samples\": [\n          \"Paresh Vinodray Savani\",\n          \"Ramesh Saigal\",\n          \"Omung Kumar\"\n        ],\n        \"semantic_type\": \"\",\n        \"description\": \"\"\n      }\n    },\n    {\n      \"column\": \"Actor 1\",\n      \"properties\": {\n        \"dtype\": \"category\",\n        \"num_unique_values\": 1960,\n        \"samples\": [\n          \"Mohan Kapur\",\n          \"Samir Aftab\",\n          \"Riya Deepsi\"\n        ],\n        \"semantic_type\": \"\",\n        \"description\": \"\"\n      }\n    },\n    {\n      \"column\": \"Actor 2\",\n      \"properties\": {\n        \"dtype\": \"category\",\n        \"num_unique_values\": 2321,\n        \"samples\": [\n          \"Arjun Fauzdar\",\n          \"Tara Deshpande\",\n          \"Saurabh Shukla\"\n        ],\n        \"semantic_type\": \"\",\n        \"description\": \"\"\n      }\n    },\n    {\n      \"column\": \"Actor 3\",\n      \"properties\": {\n        \"dtype\": \"category\",\n        \"num_unique_values\": 2556,\n        \"samples\": [\n          \"Reema Sen\",\n          \"Nitya Shetty\",\n          \"Siddharth\"\n        ],\n        \"semantic_type\": \"\",\n        \"description\": \"\"\n      }\n    }\n  ]\n}"
            }
          },
          "metadata": {},
          "execution_count": 11
        }
      ]
    },
    {
      "cell_type": "code",
      "source": [
        "# Get the dimensions of the df_movie DataFrame.\n",
        "df_movie.shape\n"
      ],
      "metadata": {
        "colab": {
          "base_uri": "https://localhost:8080/"
        },
        "id": "CYQzh2z2Z-VN",
        "outputId": "5776cfd5-4e5d-4aca-a3df-d563814c4b27"
      },
      "execution_count": null,
      "outputs": [
        {
          "output_type": "execute_result",
          "data": {
            "text/plain": [
              "(5659, 10)"
            ]
          },
          "metadata": {},
          "execution_count": 12
        }
      ]
    },
    {
      "cell_type": "code",
      "source": [
        "# Generate summary statistics for df_movie's numeric columns.\n",
        "df_movie.describe()"
      ],
      "metadata": {
        "colab": {
          "base_uri": "https://localhost:8080/",
          "height": 300
        },
        "id": "maOwleCnaGOd",
        "outputId": "c7d92140-02ab-4f1a-cc93-dc3aac6fdc36"
      },
      "execution_count": null,
      "outputs": [
        {
          "output_type": "execute_result",
          "data": {
            "text/plain": [
              "            Rating\n",
              "count  5659.000000\n",
              "mean      5.898533\n",
              "std       1.381165\n",
              "min       1.100000\n",
              "25%       5.000000\n",
              "50%       6.100000\n",
              "75%       6.900000\n",
              "max      10.000000"
            ],
            "text/html": [
              "\n",
              "  <div id=\"df-625f1559-0330-4040-accd-5987b9380dd9\" class=\"colab-df-container\">\n",
              "    <div>\n",
              "<style scoped>\n",
              "    .dataframe tbody tr th:only-of-type {\n",
              "        vertical-align: middle;\n",
              "    }\n",
              "\n",
              "    .dataframe tbody tr th {\n",
              "        vertical-align: top;\n",
              "    }\n",
              "\n",
              "    .dataframe thead th {\n",
              "        text-align: right;\n",
              "    }\n",
              "</style>\n",
              "<table border=\"1\" class=\"dataframe\">\n",
              "  <thead>\n",
              "    <tr style=\"text-align: right;\">\n",
              "      <th></th>\n",
              "      <th>Rating</th>\n",
              "    </tr>\n",
              "  </thead>\n",
              "  <tbody>\n",
              "    <tr>\n",
              "      <th>count</th>\n",
              "      <td>5659.000000</td>\n",
              "    </tr>\n",
              "    <tr>\n",
              "      <th>mean</th>\n",
              "      <td>5.898533</td>\n",
              "    </tr>\n",
              "    <tr>\n",
              "      <th>std</th>\n",
              "      <td>1.381165</td>\n",
              "    </tr>\n",
              "    <tr>\n",
              "      <th>min</th>\n",
              "      <td>1.100000</td>\n",
              "    </tr>\n",
              "    <tr>\n",
              "      <th>25%</th>\n",
              "      <td>5.000000</td>\n",
              "    </tr>\n",
              "    <tr>\n",
              "      <th>50%</th>\n",
              "      <td>6.100000</td>\n",
              "    </tr>\n",
              "    <tr>\n",
              "      <th>75%</th>\n",
              "      <td>6.900000</td>\n",
              "    </tr>\n",
              "    <tr>\n",
              "      <th>max</th>\n",
              "      <td>10.000000</td>\n",
              "    </tr>\n",
              "  </tbody>\n",
              "</table>\n",
              "</div>\n",
              "    <div class=\"colab-df-buttons\">\n",
              "\n",
              "  <div class=\"colab-df-container\">\n",
              "    <button class=\"colab-df-convert\" onclick=\"convertToInteractive('df-625f1559-0330-4040-accd-5987b9380dd9')\"\n",
              "            title=\"Convert this dataframe to an interactive table.\"\n",
              "            style=\"display:none;\">\n",
              "\n",
              "  <svg xmlns=\"http://www.w3.org/2000/svg\" height=\"24px\" viewBox=\"0 -960 960 960\">\n",
              "    <path d=\"M120-120v-720h720v720H120Zm60-500h600v-160H180v160Zm220 220h160v-160H400v160Zm0 220h160v-160H400v160ZM180-400h160v-160H180v160Zm440 0h160v-160H620v160ZM180-180h160v-160H180v160Zm440 0h160v-160H620v160Z\"/>\n",
              "  </svg>\n",
              "    </button>\n",
              "\n",
              "  <style>\n",
              "    .colab-df-container {\n",
              "      display:flex;\n",
              "      gap: 12px;\n",
              "    }\n",
              "\n",
              "    .colab-df-convert {\n",
              "      background-color: #E8F0FE;\n",
              "      border: none;\n",
              "      border-radius: 50%;\n",
              "      cursor: pointer;\n",
              "      display: none;\n",
              "      fill: #1967D2;\n",
              "      height: 32px;\n",
              "      padding: 0 0 0 0;\n",
              "      width: 32px;\n",
              "    }\n",
              "\n",
              "    .colab-df-convert:hover {\n",
              "      background-color: #E2EBFA;\n",
              "      box-shadow: 0px 1px 2px rgba(60, 64, 67, 0.3), 0px 1px 3px 1px rgba(60, 64, 67, 0.15);\n",
              "      fill: #174EA6;\n",
              "    }\n",
              "\n",
              "    .colab-df-buttons div {\n",
              "      margin-bottom: 4px;\n",
              "    }\n",
              "\n",
              "    [theme=dark] .colab-df-convert {\n",
              "      background-color: #3B4455;\n",
              "      fill: #D2E3FC;\n",
              "    }\n",
              "\n",
              "    [theme=dark] .colab-df-convert:hover {\n",
              "      background-color: #434B5C;\n",
              "      box-shadow: 0px 1px 3px 1px rgba(0, 0, 0, 0.15);\n",
              "      filter: drop-shadow(0px 1px 2px rgba(0, 0, 0, 0.3));\n",
              "      fill: #FFFFFF;\n",
              "    }\n",
              "  </style>\n",
              "\n",
              "    <script>\n",
              "      const buttonEl =\n",
              "        document.querySelector('#df-625f1559-0330-4040-accd-5987b9380dd9 button.colab-df-convert');\n",
              "      buttonEl.style.display =\n",
              "        google.colab.kernel.accessAllowed ? 'block' : 'none';\n",
              "\n",
              "      async function convertToInteractive(key) {\n",
              "        const element = document.querySelector('#df-625f1559-0330-4040-accd-5987b9380dd9');\n",
              "        const dataTable =\n",
              "          await google.colab.kernel.invokeFunction('convertToInteractive',\n",
              "                                                    [key], {});\n",
              "        if (!dataTable) return;\n",
              "\n",
              "        const docLinkHtml = 'Like what you see? Visit the ' +\n",
              "          '<a target=\"_blank\" href=https://colab.research.google.com/notebooks/data_table.ipynb>data table notebook</a>'\n",
              "          + ' to learn more about interactive tables.';\n",
              "        element.innerHTML = '';\n",
              "        dataTable['output_type'] = 'display_data';\n",
              "        await google.colab.output.renderOutput(dataTable, element);\n",
              "        const docLink = document.createElement('div');\n",
              "        docLink.innerHTML = docLinkHtml;\n",
              "        element.appendChild(docLink);\n",
              "      }\n",
              "    </script>\n",
              "  </div>\n",
              "\n",
              "\n",
              "<div id=\"df-53316189-5cba-429a-96a0-53700ac982a5\">\n",
              "  <button class=\"colab-df-quickchart\" onclick=\"quickchart('df-53316189-5cba-429a-96a0-53700ac982a5')\"\n",
              "            title=\"Suggest charts\"\n",
              "            style=\"display:none;\">\n",
              "\n",
              "<svg xmlns=\"http://www.w3.org/2000/svg\" height=\"24px\"viewBox=\"0 0 24 24\"\n",
              "     width=\"24px\">\n",
              "    <g>\n",
              "        <path d=\"M19 3H5c-1.1 0-2 .9-2 2v14c0 1.1.9 2 2 2h14c1.1 0 2-.9 2-2V5c0-1.1-.9-2-2-2zM9 17H7v-7h2v7zm4 0h-2V7h2v10zm4 0h-2v-4h2v4z\"/>\n",
              "    </g>\n",
              "</svg>\n",
              "  </button>\n",
              "\n",
              "<style>\n",
              "  .colab-df-quickchart {\n",
              "      --bg-color: #E8F0FE;\n",
              "      --fill-color: #1967D2;\n",
              "      --hover-bg-color: #E2EBFA;\n",
              "      --hover-fill-color: #174EA6;\n",
              "      --disabled-fill-color: #AAA;\n",
              "      --disabled-bg-color: #DDD;\n",
              "  }\n",
              "\n",
              "  [theme=dark] .colab-df-quickchart {\n",
              "      --bg-color: #3B4455;\n",
              "      --fill-color: #D2E3FC;\n",
              "      --hover-bg-color: #434B5C;\n",
              "      --hover-fill-color: #FFFFFF;\n",
              "      --disabled-bg-color: #3B4455;\n",
              "      --disabled-fill-color: #666;\n",
              "  }\n",
              "\n",
              "  .colab-df-quickchart {\n",
              "    background-color: var(--bg-color);\n",
              "    border: none;\n",
              "    border-radius: 50%;\n",
              "    cursor: pointer;\n",
              "    display: none;\n",
              "    fill: var(--fill-color);\n",
              "    height: 32px;\n",
              "    padding: 0;\n",
              "    width: 32px;\n",
              "  }\n",
              "\n",
              "  .colab-df-quickchart:hover {\n",
              "    background-color: var(--hover-bg-color);\n",
              "    box-shadow: 0 1px 2px rgba(60, 64, 67, 0.3), 0 1px 3px 1px rgba(60, 64, 67, 0.15);\n",
              "    fill: var(--button-hover-fill-color);\n",
              "  }\n",
              "\n",
              "  .colab-df-quickchart-complete:disabled,\n",
              "  .colab-df-quickchart-complete:disabled:hover {\n",
              "    background-color: var(--disabled-bg-color);\n",
              "    fill: var(--disabled-fill-color);\n",
              "    box-shadow: none;\n",
              "  }\n",
              "\n",
              "  .colab-df-spinner {\n",
              "    border: 2px solid var(--fill-color);\n",
              "    border-color: transparent;\n",
              "    border-bottom-color: var(--fill-color);\n",
              "    animation:\n",
              "      spin 1s steps(1) infinite;\n",
              "  }\n",
              "\n",
              "  @keyframes spin {\n",
              "    0% {\n",
              "      border-color: transparent;\n",
              "      border-bottom-color: var(--fill-color);\n",
              "      border-left-color: var(--fill-color);\n",
              "    }\n",
              "    20% {\n",
              "      border-color: transparent;\n",
              "      border-left-color: var(--fill-color);\n",
              "      border-top-color: var(--fill-color);\n",
              "    }\n",
              "    30% {\n",
              "      border-color: transparent;\n",
              "      border-left-color: var(--fill-color);\n",
              "      border-top-color: var(--fill-color);\n",
              "      border-right-color: var(--fill-color);\n",
              "    }\n",
              "    40% {\n",
              "      border-color: transparent;\n",
              "      border-right-color: var(--fill-color);\n",
              "      border-top-color: var(--fill-color);\n",
              "    }\n",
              "    60% {\n",
              "      border-color: transparent;\n",
              "      border-right-color: var(--fill-color);\n",
              "    }\n",
              "    80% {\n",
              "      border-color: transparent;\n",
              "      border-right-color: var(--fill-color);\n",
              "      border-bottom-color: var(--fill-color);\n",
              "    }\n",
              "    90% {\n",
              "      border-color: transparent;\n",
              "      border-bottom-color: var(--fill-color);\n",
              "    }\n",
              "  }\n",
              "</style>\n",
              "\n",
              "  <script>\n",
              "    async function quickchart(key) {\n",
              "      const quickchartButtonEl =\n",
              "        document.querySelector('#' + key + ' button');\n",
              "      quickchartButtonEl.disabled = true;  // To prevent multiple clicks.\n",
              "      quickchartButtonEl.classList.add('colab-df-spinner');\n",
              "      try {\n",
              "        const charts = await google.colab.kernel.invokeFunction(\n",
              "            'suggestCharts', [key], {});\n",
              "      } catch (error) {\n",
              "        console.error('Error during call to suggestCharts:', error);\n",
              "      }\n",
              "      quickchartButtonEl.classList.remove('colab-df-spinner');\n",
              "      quickchartButtonEl.classList.add('colab-df-quickchart-complete');\n",
              "    }\n",
              "    (() => {\n",
              "      let quickchartButtonEl =\n",
              "        document.querySelector('#df-53316189-5cba-429a-96a0-53700ac982a5 button');\n",
              "      quickchartButtonEl.style.display =\n",
              "        google.colab.kernel.accessAllowed ? 'block' : 'none';\n",
              "    })();\n",
              "  </script>\n",
              "</div>\n",
              "\n",
              "    </div>\n",
              "  </div>\n"
            ],
            "application/vnd.google.colaboratory.intrinsic+json": {
              "type": "dataframe",
              "summary": "{\n  \"name\": \"df_movie\",\n  \"rows\": 8,\n  \"fields\": [\n    {\n      \"column\": \"Rating\",\n      \"properties\": {\n        \"dtype\": \"number\",\n        \"std\": 1998.9232812985224,\n        \"min\": 1.1,\n        \"max\": 5659.0,\n        \"num_unique_values\": 8,\n        \"samples\": [\n          5.898533309772045,\n          6.1,\n          5659.0\n        ],\n        \"semantic_type\": \"\",\n        \"description\": \"\"\n      }\n    }\n  ]\n}"
            }
          },
          "metadata": {},
          "execution_count": 13
        }
      ]
    },
    {
      "cell_type": "code",
      "source": [
        "# Count the number of missing values in each column of df_movie.\n",
        "df_movie.isna().sum()"
      ],
      "metadata": {
        "colab": {
          "base_uri": "https://localhost:8080/"
        },
        "id": "bQeoDS6BaNlV",
        "outputId": "c490df87-e2e2-48c2-d264-753e75316d83"
      },
      "execution_count": null,
      "outputs": [
        {
          "output_type": "execute_result",
          "data": {
            "text/plain": [
              "Name        0\n",
              "Year        0\n",
              "Duration    0\n",
              "Genre       0\n",
              "Rating      0\n",
              "Votes       0\n",
              "Director    0\n",
              "Actor 1     0\n",
              "Actor 2     0\n",
              "Actor 3     0\n",
              "dtype: int64"
            ]
          },
          "metadata": {},
          "execution_count": 14
        }
      ]
    },
    {
      "cell_type": "code",
      "source": [
        "# Print a concise summary of the df_movie DataFrame.\n",
        "df_movie.info()"
      ],
      "metadata": {
        "colab": {
          "base_uri": "https://localhost:8080/"
        },
        "id": "jBBOWu69cg7p",
        "outputId": "f1d4e606-bcf9-4854-9fa7-864f16240606"
      },
      "execution_count": null,
      "outputs": [
        {
          "output_type": "stream",
          "name": "stdout",
          "text": [
            "<class 'pandas.core.frame.DataFrame'>\n",
            "Index: 5659 entries, 1 to 15508\n",
            "Data columns (total 10 columns):\n",
            " #   Column    Non-Null Count  Dtype  \n",
            "---  ------    --------------  -----  \n",
            " 0   Name      5659 non-null   object \n",
            " 1   Year      5659 non-null   object \n",
            " 2   Duration  5659 non-null   object \n",
            " 3   Genre     5659 non-null   object \n",
            " 4   Rating    5659 non-null   float64\n",
            " 5   Votes     5659 non-null   object \n",
            " 6   Director  5659 non-null   object \n",
            " 7   Actor 1   5659 non-null   object \n",
            " 8   Actor 2   5659 non-null   object \n",
            " 9   Actor 3   5659 non-null   object \n",
            "dtypes: float64(1), object(9)\n",
            "memory usage: 486.3+ KB\n"
          ]
        }
      ]
    },
    {
      "cell_type": "code",
      "source": [
        "# Get the unique values in the 'Year' column.\n",
        "df_movie.Year.unique()"
      ],
      "metadata": {
        "colab": {
          "base_uri": "https://localhost:8080/"
        },
        "id": "_hK1RNJNcmhI",
        "outputId": "9fb69339-b0e0-4299-feec-aa044adff5c8"
      },
      "execution_count": null,
      "outputs": [
        {
          "output_type": "execute_result",
          "data": {
            "text/plain": [
              "array(['(2019)', '(1997)', '(2005)', '(2012)', '(2014)', '(2004)',\n",
              "       '(2016)', '(1991)', '(2018)', '(2010)', '(1958)', '(2021)',\n",
              "       '(2017)', '(2009)', '(1993)', '(2002)', '(2008)', '(1994)',\n",
              "       '(2007)', '(2003)', '(1998)', '(1979)', '(1974)', '(2015)',\n",
              "       '(2006)', '(1981)', '(2020)', '(1985)', '(2013)', '(2011)',\n",
              "       '(1988)', '(1987)', '(1999)', '(1973)', '(1968)', '(1982)',\n",
              "       '(1977)', '(1950)', '(1969)', '(1948)', '(1990)', '(1989)',\n",
              "       '(2001)', '(2000)', '(1953)', '(1978)', '(1963)', '(1992)',\n",
              "       '(1976)', '(1984)', '(1986)', '(1966)', '(1975)', '(1980)',\n",
              "       '(1967)', '(1970)', '(1952)', '(1972)', '(1971)', '(1964)',\n",
              "       '(1954)', '(1962)', '(1957)', '(1965)', '(1996)', '(1995)',\n",
              "       '(1956)', '(1955)', '(1936)', '(1983)', '(1951)', '(1961)',\n",
              "       '(1959)', '(1949)', '(1960)', '(1946)', '(1940)', '(1945)',\n",
              "       '(1938)', '(1941)', '(1942)', '(1935)', '(1937)', '(1947)',\n",
              "       '(1931)', '(1933)', '(1943)', '(1944)', '(1932)', '(1939)',\n",
              "       '(1934)'], dtype=object)"
            ]
          },
          "metadata": {},
          "execution_count": 19
        }
      ]
    },
    {
      "cell_type": "code",
      "source": [
        "# Get the unique values in the 'Rating' column.\n",
        "df_movie.Rating.unique()"
      ],
      "metadata": {
        "colab": {
          "base_uri": "https://localhost:8080/"
        },
        "id": "9TB8O0jFc_Cl",
        "outputId": "6f52c7b9-de0b-46a9-eeed-a35593492299"
      },
      "execution_count": null,
      "outputs": [
        {
          "output_type": "execute_result",
          "data": {
            "text/plain": [
              "array([ 7. ,  4.4,  4.7,  7.4,  5.6,  4. ,  6.2,  5.9,  6.5,  5.7,  6.3,\n",
              "        7.2,  6.6,  7.3,  7.1,  6.9,  3.5,  4.5,  6.4,  4.1,  4.8,  8.1,\n",
              "        5.5,  6.8,  5. ,  6.1,  7.7,  5.1,  3.3,  7.8,  8.4,  4.3,  5.8,\n",
              "        7.5,  3.6,  4.6,  4.2,  5.3,  5.4,  3. ,  8. ,  6. ,  3.1,  3.8,\n",
              "        7.9,  2.7,  2.4,  7.6,  6.7,  3.4,  5.2,  4.9,  2.8,  3.7,  3.9,\n",
              "        3.2,  2.9,  8.2,  8.7,  8.3,  9.3,  8.8,  2.1,  2.5,  2.3,  8.5,\n",
              "        8.6,  2.6,  1.7,  9. ,  1.4,  8.9,  1.9,  9.4,  9.7,  1.8,  9.2,\n",
              "        2. ,  9.1, 10. ,  1.6,  2.2,  1.1])"
            ]
          },
          "metadata": {},
          "execution_count": 20
        }
      ]
    },
    {
      "cell_type": "code",
      "source": [
        "# Check if any column in df_movie contains null values.\n",
        "df_movie.isnull().any()"
      ],
      "metadata": {
        "colab": {
          "base_uri": "https://localhost:8080/"
        },
        "id": "_igkVVHudFZe",
        "outputId": "0c2894e9-c161-4279-9143-0bd6e2705dd7"
      },
      "execution_count": null,
      "outputs": [
        {
          "output_type": "execute_result",
          "data": {
            "text/plain": [
              "Name        False\n",
              "Year        False\n",
              "Duration    False\n",
              "Genre       False\n",
              "Rating      False\n",
              "Votes       False\n",
              "Director    False\n",
              "Actor 1     False\n",
              "Actor 2     False\n",
              "Actor 3     False\n",
              "dtype: bool"
            ]
          },
          "metadata": {},
          "execution_count": 21
        }
      ]
    },
    {
      "cell_type": "code",
      "source": [
        "# Count the number of duplicate rows in df_movie.\n",
        "df_movie.duplicated().sum()"
      ],
      "metadata": {
        "colab": {
          "base_uri": "https://localhost:8080/"
        },
        "id": "reZh7PKedPCr",
        "outputId": "6d4e14bc-1e94-4400-b16e-ecbcb93865f4"
      },
      "execution_count": null,
      "outputs": [
        {
          "output_type": "execute_result",
          "data": {
            "text/plain": [
              "0"
            ]
          },
          "metadata": {},
          "execution_count": 22
        }
      ]
    },
    {
      "cell_type": "code",
      "source": [
        "# Print info about df_movie DataFrame.\n",
        "print('INFO:',\"\\n\")\n",
        "print(df_movie.info(),\"\\n\\n\\n\\n\\n\")\n",
        "print('summary of the dataframe:',\"\\n\",df_movie.describe,\"\\n\\n\\n\\n\\n\")# Print summary statistics of df_movie DataFrame.\n",
        "print('nunique:',\"\\n\",df_movie['Genre'].nunique(),\"\\n\\n\\n\\n\\n\")# Print the number of unique values in the 'Genre' column.\n",
        "print('unique:',\"\\n\",df_movie['Year'].unique(),\"\\n\\n\\n\\n\\n\")# Print the unique values in the 'Year' column.\n",
        "print('Rating.unique:',\"\\n\",df_movie.Rating.unique(),\"\\n\\n\\n\\n\\n\")# Print the unique values in the 'Rating' column.\n",
        "print('unique:',\"\\n\",df_movie['Duration'].unique(),\"\\n\\n\\n\\n\\n\")# Print the unique values in the 'Duration' column.\n",
        "print(\"groupby(['Genre']':\",\"\\n\",df_movie.groupby(['Genre']).count(),\"\\n\\n\\n\\n\\n\")# Print the count of each group in the 'Genre' column.\n",
        "print(\"value_counts:\",\"\\n\",df_movie[\"Director\"].value_counts().head(6),\"\\n\\n\\n\\n\\n\")# Print the top 6 most frequent values in the 'Director' column.\n",
        "print('isnull().any():',\"\\n\",df_movie.isnull().any(),\"\\n\\n\\n\\n\\n\")# Print whether any columns in df_movie contain null values."
      ],
      "metadata": {
        "colab": {
          "base_uri": "https://localhost:8080/"
        },
        "id": "MeggQkAXdc3t",
        "outputId": "326beb46-3699-4ece-d5e6-0c31d86747e8"
      },
      "execution_count": null,
      "outputs": [
        {
          "output_type": "stream",
          "name": "stdout",
          "text": [
            "INFO: \n",
            "\n",
            "<class 'pandas.core.frame.DataFrame'>\n",
            "Index: 5659 entries, 1 to 15508\n",
            "Data columns (total 10 columns):\n",
            " #   Column    Non-Null Count  Dtype  \n",
            "---  ------    --------------  -----  \n",
            " 0   Name      5659 non-null   object \n",
            " 1   Year      5659 non-null   object \n",
            " 2   Duration  5659 non-null   object \n",
            " 3   Genre     5659 non-null   object \n",
            " 4   Rating    5659 non-null   float64\n",
            " 5   Votes     5659 non-null   object \n",
            " 6   Director  5659 non-null   object \n",
            " 7   Actor 1   5659 non-null   object \n",
            " 8   Actor 2   5659 non-null   object \n",
            " 9   Actor 3   5659 non-null   object \n",
            "dtypes: float64(1), object(9)\n",
            "memory usage: 486.3+ KB\n",
            "None \n",
            "\n",
            "\n",
            "\n",
            "\n",
            "\n",
            "summary of the dataframe: \n",
            " <bound method NDFrame.describe of                                      Name    Year Duration  \\\n",
            "1      #Gadhvi (He thought he was Gandhi)  (2019)  109 min   \n",
            "3                                 #Yaaram  (2019)  110 min   \n",
            "5                    ...Aur Pyaar Ho Gaya  (1997)  147 min   \n",
            "6                               ...Yahaan  (2005)  142 min   \n",
            "8                      ?: A Question Mark  (2012)   82 min   \n",
            "...                                   ...     ...      ...   \n",
            "15493                              Zubaan  (2015)  115 min   \n",
            "15494                            Zubeidaa  (2001)  153 min   \n",
            "15503                     Zulm Ki Zanjeer  (1989)  125 min   \n",
            "15505                               Zulmi  (1999)  129 min   \n",
            "15508                        Zulm-O-Sitam  (1998)  130 min   \n",
            "\n",
            "                           Genre  Rating  Votes         Director  \\\n",
            "1                          Drama     7.0      8    Gaurav Bakshi   \n",
            "3                Comedy, Romance     4.4     35       Ovais Khan   \n",
            "5         Comedy, Drama, Musical     4.7    827     Rahul Rawail   \n",
            "6            Drama, Romance, War     7.4  1,086   Shoojit Sircar   \n",
            "8      Horror, Mystery, Thriller     5.6    326    Allyson Patel   \n",
            "...                          ...     ...    ...              ...   \n",
            "15493                      Drama     6.1    408      Mozez Singh   \n",
            "15494  Biography, Drama, History     6.2  1,496    Shyam Benegal   \n",
            "15503       Action, Crime, Drama     5.8     44  S.P. Muthuraman   \n",
            "15505              Action, Drama     4.5    655       Kuku Kohli   \n",
            "15508              Action, Drama     6.2     20     K.C. Bokadia   \n",
            "\n",
            "               Actor 1                 Actor 2           Actor 3  \n",
            "1         Rasika Dugal          Vivek Ghamande     Arvind Jangid  \n",
            "3              Prateik              Ishita Raj   Siddhant Kapoor  \n",
            "5           Bobby Deol  Aishwarya Rai Bachchan     Shammi Kapoor  \n",
            "6      Jimmy Sheirgill          Minissha Lamba    Yashpal Sharma  \n",
            "8            Yash Dave          Muntazir Ahmad      Kiran Bhatia  \n",
            "...                ...                     ...               ...  \n",
            "15493    Vicky Kaushal         Sarah Jane Dias  Raaghavv Chanana  \n",
            "15494   Karisma Kapoor                   Rekha    Manoj Bajpayee  \n",
            "15503      Chiranjeevi              Jayamalini       Rajinikanth  \n",
            "15505     Akshay Kumar          Twinkle Khanna       Aruna Irani  \n",
            "15508       Dharmendra              Jaya Prada       Arjun Sarja  \n",
            "\n",
            "[5659 rows x 10 columns]> \n",
            "\n",
            "\n",
            "\n",
            "\n",
            "\n",
            "nunique: \n",
            " 376 \n",
            "\n",
            "\n",
            "\n",
            "\n",
            "\n",
            "unique: \n",
            " ['(2019)' '(1997)' '(2005)' '(2012)' '(2014)' '(2004)' '(2016)' '(1991)'\n",
            " '(2018)' '(2010)' '(1958)' '(2021)' '(2017)' '(2009)' '(1993)' '(2002)'\n",
            " '(2008)' '(1994)' '(2007)' '(2003)' '(1998)' '(1979)' '(1974)' '(2015)'\n",
            " '(2006)' '(1981)' '(2020)' '(1985)' '(2013)' '(2011)' '(1988)' '(1987)'\n",
            " '(1999)' '(1973)' '(1968)' '(1982)' '(1977)' '(1950)' '(1969)' '(1948)'\n",
            " '(1990)' '(1989)' '(2001)' '(2000)' '(1953)' '(1978)' '(1963)' '(1992)'\n",
            " '(1976)' '(1984)' '(1986)' '(1966)' '(1975)' '(1980)' '(1967)' '(1970)'\n",
            " '(1952)' '(1972)' '(1971)' '(1964)' '(1954)' '(1962)' '(1957)' '(1965)'\n",
            " '(1996)' '(1995)' '(1956)' '(1955)' '(1936)' '(1983)' '(1951)' '(1961)'\n",
            " '(1959)' '(1949)' '(1960)' '(1946)' '(1940)' '(1945)' '(1938)' '(1941)'\n",
            " '(1942)' '(1935)' '(1937)' '(1947)' '(1931)' '(1933)' '(1943)' '(1944)'\n",
            " '(1932)' '(1939)' '(1934)'] \n",
            "\n",
            "\n",
            "\n",
            "\n",
            "\n",
            "Rating.unique: \n",
            " [ 7.   4.4  4.7  7.4  5.6  4.   6.2  5.9  6.5  5.7  6.3  7.2  6.6  7.3\n",
            "  7.1  6.9  3.5  4.5  6.4  4.1  4.8  8.1  5.5  6.8  5.   6.1  7.7  5.1\n",
            "  3.3  7.8  8.4  4.3  5.8  7.5  3.6  4.6  4.2  5.3  5.4  3.   8.   6.\n",
            "  3.1  3.8  7.9  2.7  2.4  7.6  6.7  3.4  5.2  4.9  2.8  3.7  3.9  3.2\n",
            "  2.9  8.2  8.7  8.3  9.3  8.8  2.1  2.5  2.3  8.5  8.6  2.6  1.7  9.\n",
            "  1.4  8.9  1.9  9.4  9.7  1.8  9.2  2.   9.1 10.   1.6  2.2  1.1] \n",
            "\n",
            "\n",
            "\n",
            "\n",
            "\n",
            "unique: \n",
            " ['109 min' '110 min' '147 min' '142 min' '82 min' '116 min' '96 min'\n",
            " '120 min' '161 min' '166 min' '102 min' '87 min' '132 min' '105 min'\n",
            " '146 min' '168 min' '158 min' '126 min' '94 min' '138 min' '124 min'\n",
            " '144 min' '157 min' '136 min' '107 min' '113 min' '80 min' '122 min'\n",
            " '149 min' '148 min' '130 min' '121 min' '188 min' '115 min' '103 min'\n",
            " '114 min' '170 min' '100 min' '99 min' '140 min' '128 min' '93 min'\n",
            " '125 min' '145 min' '75 min' '111 min' '134 min' '104 min' '92 min'\n",
            " '137 min' '127 min' '119 min' '135 min' '90 min' '150 min' '151 min'\n",
            " '95 min' '112 min' '143 min' '177 min' '117 min' '123 min' '72 min'\n",
            " '154 min' '175 min' '153 min' '78 min' '139 min' '133 min' '180 min'\n",
            " '46 min' '164 min' '162 min' '171 min' '160 min' '152 min' '163 min'\n",
            " '165 min' '141 min' '129 min' '156 min' '240 min' '172 min' '88 min'\n",
            " '155 min' '167 min' '106 min' '193 min' '108 min' '195 min' '174 min'\n",
            " '81 min' '178 min' '58 min' '184 min' '97 min' '176 min' '169 min'\n",
            " '131 min' '77 min' '91 min' '86 min' '84 min' '173 min' '118 min'\n",
            " '181 min' '300 min' '70 min' '101 min' '79 min' '65 min' '48 min'\n",
            " '183 min' '159 min' '83 min' '68 min' '89 min' '201 min' '64 min'\n",
            " '186 min' '74 min' '85 min' '98 min' '49 min' '60 min' '207 min' '76 min'\n",
            " '185 min' '59 min' '187 min' '216 min' '51 min' '71 min' '45 min'\n",
            " '73 min' '57 min' '191 min' '321 min' '199 min' '179 min' '47 min'\n",
            " '206 min' '63 min' '211 min' '247 min' '56 min' '213 min' '210 min'\n",
            " '190 min' '223 min' '189 min' '224 min' '202 min' '69 min' '255 min'\n",
            " '197 min' '182 min' '66 min' '214 min' '208 min' '21 min' '200 min'\n",
            " '192 min' '50 min' '54 min' '238 min' '62 min' '67 min' '52 min'\n",
            " '204 min' '235 min' '217 min' '61 min' '250 min'] \n",
            "\n",
            "\n",
            "\n",
            "\n",
            "\n",
            "groupby(['Genre']': \n",
            "                               Name  Year  Duration  Rating  Votes  Director  \\\n",
            "Genre                                                                         \n",
            "Action                         170   170       170     170    170       170   \n",
            "Action, Adventure               17    17        17      17     17        17   \n",
            "Action, Adventure, Biography     1     1         1       1      1         1   \n",
            "Action, Adventure, Comedy       37    37        37      37     37        37   \n",
            "Action, Adventure, Crime         9     9         9       9      9         9   \n",
            "...                            ...   ...       ...     ...    ...       ...   \n",
            "Thriller, Action                 1     1         1       1      1         1   \n",
            "Thriller, Musical, Mystery       1     1         1       1      1         1   \n",
            "Thriller, Mystery                2     2         2       2      2         2   \n",
            "Thriller, Mystery, Family        1     1         1       1      1         1   \n",
            "War                              3     3         3       3      3         3   \n",
            "\n",
            "                              Actor 1  Actor 2  Actor 3  \n",
            "Genre                                                    \n",
            "Action                            170      170      170  \n",
            "Action, Adventure                  17       17       17  \n",
            "Action, Adventure, Biography        1        1        1  \n",
            "Action, Adventure, Comedy          37       37       37  \n",
            "Action, Adventure, Crime            9        9        9  \n",
            "...                               ...      ...      ...  \n",
            "Thriller, Action                    1        1        1  \n",
            "Thriller, Musical, Mystery          1        1        1  \n",
            "Thriller, Mystery                   2        2        2  \n",
            "Thriller, Mystery, Family           1        1        1  \n",
            "War                                 3        3        3  \n",
            "\n",
            "[376 rows x 9 columns] \n",
            "\n",
            "\n",
            "\n",
            "\n",
            "\n",
            "value_counts: \n",
            " Director\n",
            "David Dhawan            41\n",
            "Mahesh Bhatt            39\n",
            "Ram Gopal Varma         33\n",
            "Hrishikesh Mukherjee    33\n",
            "Shakti Samanta          33\n",
            "Vikram Bhatt            30\n",
            "Name: count, dtype: int64 \n",
            "\n",
            "\n",
            "\n",
            "\n",
            "\n",
            "isnull().any(): \n",
            " Name        False\n",
            "Year        False\n",
            "Duration    False\n",
            "Genre       False\n",
            "Rating      False\n",
            "Votes       False\n",
            "Director    False\n",
            "Actor 1     False\n",
            "Actor 2     False\n",
            "Actor 3     False\n",
            "dtype: bool \n",
            "\n",
            "\n",
            "\n",
            "\n",
            "\n"
          ]
        }
      ]
    },
    {
      "cell_type": "code",
      "source": [
        "# Define a function to plot the top 10 values of a specified column as a bar plot.\n",
        "def TopTenPlot(column):\n",
        "    global df_movie\n",
        "    df[column].value_counts().sort_values(ascending=False)[:10].plot(kind=\"bar\", figsize=(20,6), edgecolor=\"k\")\n",
        "    plt.xticks(rotation=0)\n",
        "    plt.title(\"Top Ten {}\".format(column))\n",
        "    plt.xlabel(column)\n",
        "    plt.ylabel(\"Count\")\n",
        "    plt.show()"
      ],
      "metadata": {
        "id": "74m6DNl3d_5q"
      },
      "execution_count": null,
      "outputs": []
    },
    {
      "cell_type": "code",
      "source": [
        "# Define a function to plot a histogram for a specified column.\n",
        "def Histogram(column):\n",
        "    global df_movie\n",
        "    plt.figure(figsize=(20,6))\n",
        "    plt.hist(df[column], edgecolor=\"k\")\n",
        "    plt.xticks(rotation=0)\n",
        "    plt.title(\"Histogram of {}\".format(column))\n",
        "    plt.xlabel(column)\n",
        "    plt.ylabel(\"Frequency\")\n",
        "    plt.show()"
      ],
      "metadata": {
        "id": "p8c3qDDDeHBN"
      },
      "execution_count": null,
      "outputs": []
    },
    {
      "cell_type": "code",
      "source": [
        "# Define a function to plot a scatter plot for specified x and y columns.\n",
        "def Scatter(x, y, c=None):\n",
        "    global df_movie\n",
        "    plt.figure(figsize=(20,6))\n",
        "    plt.scatter(df[x], df[y], edgecolor=\"k\", c=c)\n",
        "    plt.xticks(rotation=0)\n",
        "    plt.title(\"Scatter plot X:{} / Y:{}\".format(x, y))\n",
        "    plt.xlabel(x)\n",
        "    plt.ylabel(y)\n",
        "    plt.show()"
      ],
      "metadata": {
        "id": "JxRnOaZJeKrl"
      },
      "execution_count": null,
      "outputs": []
    },
    {
      "cell_type": "code",
      "source": [
        "# Define (and overwrite) a function to plot the top 10 values of a specified column as a bar plot.\n",
        "def TopTenPlot(column):\n",
        "    global df_movie # Access the global df_movie\n",
        "    df_movie[column].value_counts().sort_values(ascending=False)[:10].plot(kind=\"bar\", figsize=(20,6), edgecolor=\"k\") # Use df_movie\n",
        "    plt.xticks(rotation=0)\n",
        "    plt.title(\"Top Ten {}\".format(column))\n",
        "    plt.xlabel(column)\n",
        "    plt.ylabel(\"Count\")\n",
        "    plt.show()"
      ],
      "metadata": {
        "id": "VM32-CkqeO9k"
      },
      "execution_count": null,
      "outputs": []
    },
    {
      "cell_type": "code",
      "source": [
        "TopTenPlot('Director') # Plot the top 10 most frequent directors."
      ],
      "metadata": {
        "colab": {
          "base_uri": "https://localhost:8080/",
          "height": 442
        },
        "id": "CMWai7waeyLf",
        "outputId": "238bb07d-d0f0-4a7b-ae83-ebe7e0eca7c3"
      },
      "execution_count": null,
      "outputs": [
        {
          "output_type": "display_data",
          "data": {
            "text/plain": [
              "<Figure size 2000x600 with 1 Axes>"
            ],
            "image/png": "[encoded data removed]"
          },
          "metadata": {}
        }
      ]
    },
    {
      "cell_type": "code",
      "source": [
        "TopTenPlot('Actor 1') # Plot the top 10 most frequent actors in 'Actor 1' column."
      ],
      "metadata": {
        "colab": {
          "base_uri": "https://localhost:8080/",
          "height": 439
        },
        "id": "pIcm4SD5e19h",
        "outputId": "e6f36832-f8bd-4534-d2dc-5130cafbd172"
      },
      "execution_count": null,
      "outputs": [
        {
          "output_type": "display_data",
          "data": {
            "text/plain": [
              "<Figure size 2000x600 with 1 Axes>"
            ],
            "image/png": "[encoded data removed]"
          },
          "metadata": {}
        }
      ]
    },
    {
      "cell_type": "code",
      "source": [
        "TopTenPlot('Actor 2') # Plot the top 10 most frequent actors in 'Actor 2' column."
      ],
      "metadata": {
        "colab": {
          "base_uri": "https://localhost:8080/",
          "height": 442
        },
        "id": "On5SXJUye-Ot",
        "outputId": "5590e5f0-f3d1-4a60-c154-e20acd311a30"
      },
      "execution_count": null,
      "outputs": [
        {
          "output_type": "display_data",
          "data": {
            "text/plain": [
              "<Figure size 2000x600 with 1 Axes>"
            ],
            "image/png": "[encoded data removed]"
          },
          "metadata": {}
        }
      ]
    },
    {
      "cell_type": "code",
      "source": [
        "TopTenPlot('Actor 3') # Plot the top 10 most frequent actors in 'Actor 3' column."
      ],
      "metadata": {
        "colab": {
          "base_uri": "https://localhost:8080/",
          "height": 442
        },
        "id": "k5qyfP7QfAhg",
        "outputId": "e17fd9e4-eb5d-483e-f9c2-08e64cb2f5a8"
      },
      "execution_count": null,
      "outputs": [
        {
          "output_type": "display_data",
          "data": {
            "text/plain": [
              "<Figure size 2000x600 with 1 Axes>"
            ],
            "image/png": "[encoded data removed]"
          },
          "metadata": {}
        }
      ]
    },
    {
      "cell_type": "code",
      "source": [
        "sns.pairplot(df_movie) # Plot pairwise relationships in the df_movie DataFrame.\n",
        "numeric_columns = df_movie.select_dtypes(include=['float64', 'int64']).columns # Select the numeric columns from df_movie.\n",
        "correlation_matrix = df_movie[numeric_columns].corr(method='spearman') # Compute the Spearman correlation matrix for the numeric columns."
      ],
      "metadata": {
        "colab": {
          "base_uri": "https://localhost:8080/",
          "height": 268
        },
        "id": "apK3bBxpfEbi",
        "outputId": "bef3ffe3-a6b0-4dd2-ff28-34f2f0a599cd"
      },
      "execution_count": null,
      "outputs": [
        {
          "output_type": "display_data",
          "data": {
            "text/plain": [
              "<Figure size 250x250 with 2 Axes>"
            ],
            "image/png": "[encoded data removed]"
          },
          "metadata": {}
        }
      ]
    }
  ]
}