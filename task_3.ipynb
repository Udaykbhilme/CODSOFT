{
  "nbformat": 4,
  "nbformat_minor": 0,
  "metadata": {
    "colab": {
      "provenance": [],
      "authorship_tag": "ABX9TyM2NsHFi7vAjK5ynbgWFdHs",
      "include_colab_link": true
    },
    "kernelspec": {
      "name": "python3",
      "display_name": "Python 3"
    },
    "language_info": {
      "name": "python"
    }
  },
  "cells": [
    {
      "cell_type": "markdown",
      "metadata": {
        "id": "view-in-github",
        "colab_type": "text"
      },
      "source": [
        "<a href=\"https://colab.research.google.com/github/Udaykbhilme/CODSOFT/blob/main/task_3.ipynb\" target=\"_parent\"><img src=\"https://colab.research.google.com/assets/colab-badge.svg\" alt=\"Open In Colab\"/></a>"
      ]
    },
    {
      "cell_type": "code",
      "execution_count": null,
      "metadata": {
        "id": "inbL7IGffZBj"
      },
      "outputs": [],
      "source": [
        "# Import necessary libraries\n",
        "import seaborn as sns\n",
        "import pandas as pd\n",
        "import matplotlib.pyplot as plt\n",
        "import numpy as np\n",
        "import tensorflow as tf\n",
        "from tensorflow.keras.models import Sequential\n",
        "from tensorflow.keras.layers import Dense\n",
        "from sklearn.model_selection import train_test_split\n",
        "from sklearn.preprocessing import LabelEncoder, StandardScaler"
      ]
    },
    {
      "cell_type": "code",
      "source": [
        "# Load the Iris dataset\n",
        "data = pd.read_csv('IRIS.csv')"
      ],
      "metadata": {
        "id": "ylkJ2I1Cf-of"
      },
      "execution_count": null,
      "outputs": []
    },
    {
      "cell_type": "code",
      "source": [
        "data.head()"
      ],
      "metadata": {
        "colab": {
          "base_uri": "https://localhost:8080/",
          "height": 206
        },
        "id": "sJPiWSxvgHyD",
        "outputId": "4b32abb8-ef42-48e1-f0e7-99f9e24341ae"
      },
      "execution_count": null,
      "outputs": [
        {
          "output_type": "execute_result",
          "data": {
            "text/plain": [
              "   sepal_length  sepal_width  petal_length  petal_width      species\n",
              "0           5.1          3.5           1.4          0.2  Iris-setosa\n",
              "1           4.9          3.0           1.4          0.2  Iris-setosa\n",
              "2           4.7          3.2           1.3          0.2  Iris-setosa\n",
              "3           4.6          3.1           1.5          0.2  Iris-setosa\n",
              "4           5.0          3.6           1.4          0.2  Iris-setosa"
            ],
            "text/html": [
              "\n",
              "  <div id=\"df-d7be0b91-78ab-45fa-83f4-89f920e68891\" class=\"colab-df-container\">\n",
              "    <div>\n",
              "<style scoped>\n",
              "    .dataframe tbody tr th:only-of-type {\n",
              "        vertical-align: middle;\n",
              "    }\n",
              "\n",
              "    .dataframe tbody tr th {\n",
              "        vertical-align: top;\n",
              "    }\n",
              "\n",
              "    .dataframe thead th {\n",
              "        text-align: right;\n",
              "    }\n",
              "</style>\n",
              "<table border=\"1\" class=\"dataframe\">\n",
              "  <thead>\n",
              "    <tr style=\"text-align: right;\">\n",
              "      <th></th>\n",
              "      <th>sepal_length</th>\n",
              "      <th>sepal_width</th>\n",
              "      <th>petal_length</th>\n",
              "      <th>petal_width</th>\n",
              "      <th>species</th>\n",
              "    </tr>\n",
              "  </thead>\n",
              "  <tbody>\n",
              "    <tr>\n",
              "      <th>0</th>\n",
              "      <td>5.1</td>\n",
              "      <td>3.5</td>\n",
              "      <td>1.4</td>\n",
              "      <td>0.2</td>\n",
              "      <td>Iris-setosa</td>\n",
              "    </tr>\n",
              "    <tr>\n",
              "      <th>1</th>\n",
              "      <td>4.9</td>\n",
              "      <td>3.0</td>\n",
              "      <td>1.4</td>\n",
              "      <td>0.2</td>\n",
              "      <td>Iris-setosa</td>\n",
              "    </tr>\n",
              "    <tr>\n",
              "      <th>2</th>\n",
              "      <td>4.7</td>\n",
              "      <td>3.2</td>\n",
              "      <td>1.3</td>\n",
              "      <td>0.2</td>\n",
              "      <td>Iris-setosa</td>\n",
              "    </tr>\n",
              "    <tr>\n",
              "      <th>3</th>\n",
              "      <td>4.6</td>\n",
              "      <td>3.1</td>\n",
              "      <td>1.5</td>\n",
              "      <td>0.2</td>\n",
              "      <td>Iris-setosa</td>\n",
              "    </tr>\n",
              "    <tr>\n",
              "      <th>4</th>\n",
              "      <td>5.0</td>\n",
              "      <td>3.6</td>\n",
              "      <td>1.4</td>\n",
              "      <td>0.2</td>\n",
              "      <td>Iris-setosa</td>\n",
              "    </tr>\n",
              "  </tbody>\n",
              "</table>\n",
              "</div>\n",
              "    <div class=\"colab-df-buttons\">\n",
              "\n",
              "  <div class=\"colab-df-container\">\n",
              "    <button class=\"colab-df-convert\" onclick=\"convertToInteractive('df-d7be0b91-78ab-45fa-83f4-89f920e68891')\"\n",
              "            title=\"Convert this dataframe to an interactive table.\"\n",
              "            style=\"display:none;\">\n",
              "\n",
              "  <svg xmlns=\"http://www.w3.org/2000/svg\" height=\"24px\" viewBox=\"0 -960 960 960\">\n",
              "    <path d=\"M120-120v-720h720v720H120Zm60-500h600v-160H180v160Zm220 220h160v-160H400v160Zm0 220h160v-160H400v160ZM180-400h160v-160H180v160Zm440 0h160v-160H620v160ZM180-180h160v-160H180v160Zm440 0h160v-160H620v160Z\"/>\n",
              "  </svg>\n",
              "    </button>\n",
              "\n",
              "  <style>\n",
              "    .colab-df-container {\n",
              "      display:flex;\n",
              "      gap: 12px;\n",
              "    }\n",
              "\n",
              "    .colab-df-convert {\n",
              "      background-color: #E8F0FE;\n",
              "      border: none;\n",
              "      border-radius: 50%;\n",
              "      cursor: pointer;\n",
              "      display: none;\n",
              "      fill: #1967D2;\n",
              "      height: 32px;\n",
              "      padding: 0 0 0 0;\n",
              "      width: 32px;\n",
              "    }\n",
              "\n",
              "    .colab-df-convert:hover {\n",
              "      background-color: #E2EBFA;\n",
              "      box-shadow: 0px 1px 2px rgba(60, 64, 67, 0.3), 0px 1px 3px 1px rgba(60, 64, 67, 0.15);\n",
              "      fill: #174EA6;\n",
              "    }\n",
              "\n",
              "    .colab-df-buttons div {\n",
              "      margin-bottom: 4px;\n",
              "    }\n",
              "\n",
              "    [theme=dark] .colab-df-convert {\n",
              "      background-color: #3B4455;\n",
              "      fill: #D2E3FC;\n",
              "    }\n",
              "\n",
              "    [theme=dark] .colab-df-convert:hover {\n",
              "      background-color: #434B5C;\n",
              "      box-shadow: 0px 1px 3px 1px rgba(0, 0, 0, 0.15);\n",
              "      filter: drop-shadow(0px 1px 2px rgba(0, 0, 0, 0.3));\n",
              "      fill: #FFFFFF;\n",
              "    }\n",
              "  </style>\n",
              "\n",
              "    <script>\n",
              "      const buttonEl =\n",
              "        document.querySelector('#df-d7be0b91-78ab-45fa-83f4-89f920e68891 button.colab-df-convert');\n",
              "      buttonEl.style.display =\n",
              "        google.colab.kernel.accessAllowed ? 'block' : 'none';\n",
              "\n",
              "      async function convertToInteractive(key) {\n",
              "        const element = document.querySelector('#df-d7be0b91-78ab-45fa-83f4-89f920e68891');\n",
              "        const dataTable =\n",
              "          await google.colab.kernel.invokeFunction('convertToInteractive',\n",
              "                                                    [key], {});\n",
              "        if (!dataTable) return;\n",
              "\n",
              "        const docLinkHtml = 'Like what you see? Visit the ' +\n",
              "          '<a target=\"_blank\" href=https://colab.research.google.com/notebooks/data_table.ipynb>data table notebook</a>'\n",
              "          + ' to learn more about interactive tables.';\n",
              "        element.innerHTML = '';\n",
              "        dataTable['output_type'] = 'display_data';\n",
              "        await google.colab.output.renderOutput(dataTable, element);\n",
              "        const docLink = document.createElement('div');\n",
              "        docLink.innerHTML = docLinkHtml;\n",
              "        element.appendChild(docLink);\n",
              "      }\n",
              "    </script>\n",
              "  </div>\n",
              "\n",
              "\n",
              "<div id=\"df-a19f552f-3780-436f-a251-6f2f84be4bc9\">\n",
              "  <button class=\"colab-df-quickchart\" onclick=\"quickchart('df-a19f552f-3780-436f-a251-6f2f84be4bc9')\"\n",
              "            title=\"Suggest charts\"\n",
              "            style=\"display:none;\">\n",
              "\n",
              "<svg xmlns=\"http://www.w3.org/2000/svg\" height=\"24px\"viewBox=\"0 0 24 24\"\n",
              "     width=\"24px\">\n",
              "    <g>\n",
              "        <path d=\"M19 3H5c-1.1 0-2 .9-2 2v14c0 1.1.9 2 2 2h14c1.1 0 2-.9 2-2V5c0-1.1-.9-2-2-2zM9 17H7v-7h2v7zm4 0h-2V7h2v10zm4 0h-2v-4h2v4z\"/>\n",
              "    </g>\n",
              "</svg>\n",
              "  </button>\n",
              "\n",
              "<style>\n",
              "  .colab-df-quickchart {\n",
              "      --bg-color: #E8F0FE;\n",
              "      --fill-color: #1967D2;\n",
              "      --hover-bg-color: #E2EBFA;\n",
              "      --hover-fill-color: #174EA6;\n",
              "      --disabled-fill-color: #AAA;\n",
              "      --disabled-bg-color: #DDD;\n",
              "  }\n",
              "\n",
              "  [theme=dark] .colab-df-quickchart {\n",
              "      --bg-color: #3B4455;\n",
              "      --fill-color: #D2E3FC;\n",
              "      --hover-bg-color: #434B5C;\n",
              "      --hover-fill-color: #FFFFFF;\n",
              "      --disabled-bg-color: #3B4455;\n",
              "      --disabled-fill-color: #666;\n",
              "  }\n",
              "\n",
              "  .colab-df-quickchart {\n",
              "    background-color: var(--bg-color);\n",
              "    border: none;\n",
              "    border-radius: 50%;\n",
              "    cursor: pointer;\n",
              "    display: none;\n",
              "    fill: var(--fill-color);\n",
              "    height: 32px;\n",
              "    padding: 0;\n",
              "    width: 32px;\n",
              "  }\n",
              "\n",
              "  .colab-df-quickchart:hover {\n",
              "    background-color: var(--hover-bg-color);\n",
              "    box-shadow: 0 1px 2px rgba(60, 64, 67, 0.3), 0 1px 3px 1px rgba(60, 64, 67, 0.15);\n",
              "    fill: var(--button-hover-fill-color);\n",
              "  }\n",
              "\n",
              "  .colab-df-quickchart-complete:disabled,\n",
              "  .colab-df-quickchart-complete:disabled:hover {\n",
              "    background-color: var(--disabled-bg-color);\n",
              "    fill: var(--disabled-fill-color);\n",
              "    box-shadow: none;\n",
              "  }\n",
              "\n",
              "  .colab-df-spinner {\n",
              "    border: 2px solid var(--fill-color);\n",
              "    border-color: transparent;\n",
              "    border-bottom-color: var(--fill-color);\n",
              "    animation:\n",
              "      spin 1s steps(1) infinite;\n",
              "  }\n",
              "\n",
              "  @keyframes spin {\n",
              "    0% {\n",
              "      border-color: transparent;\n",
              "      border-bottom-color: var(--fill-color);\n",
              "      border-left-color: var(--fill-color);\n",
              "    }\n",
              "    20% {\n",
              "      border-color: transparent;\n",
              "      border-left-color: var(--fill-color);\n",
              "      border-top-color: var(--fill-color);\n",
              "    }\n",
              "    30% {\n",
              "      border-color: transparent;\n",
              "      border-left-color: var(--fill-color);\n",
              "      border-top-color: var(--fill-color);\n",
              "      border-right-color: var(--fill-color);\n",
              "    }\n",
              "    40% {\n",
              "      border-color: transparent;\n",
              "      border-right-color: var(--fill-color);\n",
              "      border-top-color: var(--fill-color);\n",
              "    }\n",
              "    60% {\n",
              "      border-color: transparent;\n",
              "      border-right-color: var(--fill-color);\n",
              "    }\n",
              "    80% {\n",
              "      border-color: transparent;\n",
              "      border-right-color: var(--fill-color);\n",
              "      border-bottom-color: var(--fill-color);\n",
              "    }\n",
              "    90% {\n",
              "      border-color: transparent;\n",
              "      border-bottom-color: var(--fill-color);\n",
              "    }\n",
              "  }\n",
              "</style>\n",
              "\n",
              "  <script>\n",
              "    async function quickchart(key) {\n",
              "      const quickchartButtonEl =\n",
              "        document.querySelector('#' + key + ' button');\n",
              "      quickchartButtonEl.disabled = true;  // To prevent multiple clicks.\n",
              "      quickchartButtonEl.classList.add('colab-df-spinner');\n",
              "      try {\n",
              "        const charts = await google.colab.kernel.invokeFunction(\n",
              "            'suggestCharts', [key], {});\n",
              "      } catch (error) {\n",
              "        console.error('Error during call to suggestCharts:', error);\n",
              "      }\n",
              "      quickchartButtonEl.classList.remove('colab-df-spinner');\n",
              "      quickchartButtonEl.classList.add('colab-df-quickchart-complete');\n",
              "    }\n",
              "    (() => {\n",
              "      let quickchartButtonEl =\n",
              "        document.querySelector('#df-a19f552f-3780-436f-a251-6f2f84be4bc9 button');\n",
              "      quickchartButtonEl.style.display =\n",
              "        google.colab.kernel.accessAllowed ? 'block' : 'none';\n",
              "    })();\n",
              "  </script>\n",
              "</div>\n",
              "\n",
              "    </div>\n",
              "  </div>\n"
            ],
            "application/vnd.google.colaboratory.intrinsic+json": {
              "type": "dataframe",
              "variable_name": "data",
              "summary": "{\n  \"name\": \"data\",\n  \"rows\": 150,\n  \"fields\": [\n    {\n      \"column\": \"sepal_length\",\n      \"properties\": {\n        \"dtype\": \"number\",\n        \"std\": 0.828066127977863,\n        \"min\": 4.3,\n        \"max\": 7.9,\n        \"num_unique_values\": 35,\n        \"samples\": [\n          6.2,\n          4.5,\n          5.6\n        ],\n        \"semantic_type\": \"\",\n        \"description\": \"\"\n      }\n    },\n    {\n      \"column\": \"sepal_width\",\n      \"properties\": {\n        \"dtype\": \"number\",\n        \"std\": 0.4335943113621737,\n        \"min\": 2.0,\n        \"max\": 4.4,\n        \"num_unique_values\": 23,\n        \"samples\": [\n          2.3,\n          4.0,\n          3.5\n        ],\n        \"semantic_type\": \"\",\n        \"description\": \"\"\n      }\n    },\n    {\n      \"column\": \"petal_length\",\n      \"properties\": {\n        \"dtype\": \"number\",\n        \"std\": 1.7644204199522626,\n        \"min\": 1.0,\n        \"max\": 6.9,\n        \"num_unique_values\": 43,\n        \"samples\": [\n          6.7,\n          3.8,\n          3.7\n        ],\n        \"semantic_type\": \"\",\n        \"description\": \"\"\n      }\n    },\n    {\n      \"column\": \"petal_width\",\n      \"properties\": {\n        \"dtype\": \"number\",\n        \"std\": 0.7631607417008411,\n        \"min\": 0.1,\n        \"max\": 2.5,\n        \"num_unique_values\": 22,\n        \"samples\": [\n          0.2,\n          1.2,\n          1.3\n        ],\n        \"semantic_type\": \"\",\n        \"description\": \"\"\n      }\n    },\n    {\n      \"column\": \"species\",\n      \"properties\": {\n        \"dtype\": \"category\",\n        \"num_unique_values\": 3,\n        \"samples\": [\n          \"Iris-setosa\",\n          \"Iris-versicolor\",\n          \"Iris-virginica\"\n        ],\n        \"semantic_type\": \"\",\n        \"description\": \"\"\n      }\n    }\n  ]\n}"
            }
          },
          "metadata": {},
          "execution_count": 28
        }
      ]
    },
    {
      "cell_type": "code",
      "source": [
        "# Preview the data\n",
        "print(data.head())"
      ],
      "metadata": {
        "colab": {
          "base_uri": "https://localhost:8080/"
        },
        "id": "tFsvbqZvgJvB",
        "outputId": "3d8b94c7-35a2-4a17-ad2e-2faa28b025c0"
      },
      "execution_count": null,
      "outputs": [
        {
          "output_type": "stream",
          "name": "stdout",
          "text": [
            "   sepal_length  sepal_width  petal_length  petal_width      species\n",
            "0           5.1          3.5           1.4          0.2  Iris-setosa\n",
            "1           4.9          3.0           1.4          0.2  Iris-setosa\n",
            "2           4.7          3.2           1.3          0.2  Iris-setosa\n",
            "3           4.6          3.1           1.5          0.2  Iris-setosa\n",
            "4           5.0          3.6           1.4          0.2  Iris-setosa\n"
          ]
        }
      ]
    },
    {
      "cell_type": "code",
      "source": [
        "# Analyze species distribution\n",
        "species_count = data['species'].value_counts().reset_index()\n",
        "print(species_count)"
      ],
      "metadata": {
        "colab": {
          "base_uri": "https://localhost:8080/"
        },
        "id": "SU6lxxkygoAK",
        "outputId": "9fa0d48b-71a8-415a-fe2b-206cdf7b9100"
      },
      "execution_count": null,
      "outputs": [
        {
          "output_type": "stream",
          "name": "stdout",
          "text": [
            "           species  count\n",
            "0      Iris-setosa     50\n",
            "1  Iris-versicolor     50\n",
            "2   Iris-virginica     50\n"
          ]
        }
      ]
    },
    {
      "cell_type": "code",
      "source": [
        "# Analyze species distribution\n",
        "species_count = data['species'].value_counts() # Remove reset_index()\n",
        "print(species_count)\n",
        "\n",
        "# Visualize species distribution with a pie chart\n",
        "plt.figure(figsize=(8,8))\n",
        "plt.pie(species_count.values, labels=species_count.index, autopct='%1.3f%%') # Use .values and .index\n",
        "plt.legend(loc='upper left')\n",
        "plt.show()"
      ],
      "metadata": {
        "colab": {
          "base_uri": "https://localhost:8080/",
          "height": 742
        },
        "id": "_1QVKdaXgt1X",
        "outputId": "9228fce5-2fb6-4ff5-da68-7e4b2ff31ea2"
      },
      "execution_count": null,
      "outputs": [
        {
          "output_type": "stream",
          "name": "stdout",
          "text": [
            "species\n",
            "Iris-setosa        50\n",
            "Iris-versicolor    50\n",
            "Iris-virginica     50\n",
            "Name: count, dtype: int64\n"
          ]
        },
        {
          "output_type": "display_data",
          "data": {
            "text/plain": [
              "<Figure size 800x800 with 1 Axes>"
            ],
            "image/png": "[encoded data removed]"
          },
          "metadata": {}
        }
      ]
    },
    {
      "cell_type": "code",
      "source": [
        "sns.scatterplot(data=data, x='petal_length', y='sepal_width', hue='species')\n",
        "plt.show()"
      ],
      "metadata": {
        "colab": {
          "base_uri": "https://localhost:8080/",
          "height": 452
        },
        "id": "XWL42l_cgwTL",
        "outputId": "8c30fb18-349e-4065-aa1c-e5cdffee8822"
      },
      "execution_count": null,
      "outputs": [
        {
          "output_type": "display_data",
          "data": {
            "text/plain": [
              "<Figure size 640x480 with 1 Axes>"
            ],
            "image/png": "[encoded data removed]"
          },
          "metadata": {}
        }
      ]
    },
    {
      "cell_type": "code",
      "source": [
        "print(data.isnull().sum())"
      ],
      "metadata": {
        "colab": {
          "base_uri": "https://localhost:8080/"
        },
        "id": "XAbSYYVhg1mT",
        "outputId": "81b7c18f-feda-41ca-e671-49262b47ff2c"
      },
      "execution_count": null,
      "outputs": [
        {
          "output_type": "stream",
          "name": "stdout",
          "text": [
            "sepal_length    0\n",
            "sepal_width     0\n",
            "petal_length    0\n",
            "petal_width     0\n",
            "species         0\n",
            "dtype: int64\n"
          ]
        }
      ]
    },
    {
      "cell_type": "code",
      "source": [
        "# Show value counts for species\n",
        "print(data['species'].value_counts())"
      ],
      "metadata": {
        "colab": {
          "base_uri": "https://localhost:8080/"
        },
        "id": "FgFp7smtg-wu",
        "outputId": "4c623002-4d32-4536-d16a-d9b7af820bbd"
      },
      "execution_count": null,
      "outputs": [
        {
          "output_type": "stream",
          "name": "stdout",
          "text": [
            "species\n",
            "Iris-setosa        50\n",
            "Iris-versicolor    50\n",
            "Iris-virginica     50\n",
            "Name: count, dtype: int64\n"
          ]
        }
      ]
    },
    {
      "cell_type": "code",
      "source": [
        "# Prepare features and target\n",
        "features = data.drop(columns='species')\n",
        "target = data['species']"
      ],
      "metadata": {
        "id": "JQiYggB7hh7g"
      },
      "execution_count": null,
      "outputs": []
    },
    {
      "cell_type": "code",
      "source": [
        "# Standardize the feature data\n",
        "scaler = StandardScaler()\n",
        "features_scaled = scaler.fit_transform(features)"
      ],
      "metadata": {
        "id": "bLRO3TWShlfe"
      },
      "execution_count": null,
      "outputs": []
    },
    {
      "cell_type": "code",
      "source": [
        "# Encode species labels\n",
        "encoder = LabelEncoder()\n",
        "target_encoded = encoder.fit_transform(target)"
      ],
      "metadata": {
        "id": "2-tUrWGVhn8o"
      },
      "execution_count": null,
      "outputs": []
    },
    {
      "cell_type": "code",
      "source": [
        "# Convert target labels to one-hot encoding\n",
        "target_onehot = tf.keras.utils.to_categorical(target_encoded)"
      ],
      "metadata": {
        "id": "dLxyo7YXhqIR"
      },
      "execution_count": null,
      "outputs": []
    },
    {
      "cell_type": "code",
      "source": [
        "# Split data into training and test sets\n",
        "x_train, x_test, y_train, y_test = train_test_split(features_scaled, target_onehot, test_size=0.10, random_state=101)"
      ],
      "metadata": {
        "id": "C8eDyzjnhtUJ"
      },
      "execution_count": null,
      "outputs": []
    },
    {
      "cell_type": "code",
      "source": [
        "# Define model parameters\n",
        "input_dim = x_train.shape[1]\n",
        "batch_size = 10\n",
        "hidden1_units = 100\n",
        "hidden2_units = 50\n",
        "output_units = 3\n",
        "epochs = 70"
      ],
      "metadata": {
        "id": "Q1dMJRUjhwg9"
      },
      "execution_count": null,
      "outputs": []
    },
    {
      "cell_type": "code",
      "source": [
        "# Build the neural network model\n",
        "model = Sequential([\n",
        "    Dense(hidden1_units, input_dim=input_dim, activation='relu'),\n",
        "    Dense(hidden2_units, activation='relu'),\n",
        "    Dense(output_units, activation='softmax')\n",
        "])\n"
      ],
      "metadata": {
        "id": "_iHpmeFqhz0z"
      },
      "execution_count": null,
      "outputs": []
    },
    {
      "cell_type": "code",
      "source": [
        "# Compile the model\n",
        "model.compile(optimizer='adam', loss='categorical_crossentropy', metrics=['accuracy'])"
      ],
      "metadata": {
        "id": "IzIsMqtNh19g"
      },
      "execution_count": null,
      "outputs": []
    },
    {
      "cell_type": "code",
      "source": [
        "# Summary of the model\n",
        "model.summary()"
      ],
      "metadata": {
        "colab": {
          "base_uri": "https://localhost:8080/"
        },
        "id": "S46DE0w3h9JS",
        "outputId": "65441eaf-350b-4173-d4f7-b78aa63fbff4"
      },
      "execution_count": null,
      "outputs": [
        {
          "output_type": "stream",
          "name": "stdout",
          "text": [
            "Model: \"sequential_1\"\n",
            "_________________________________________________________________\n",
            " Layer (type)                Output Shape              Param #   \n",
            "=================================================================\n",
            " dense_3 (Dense)             (None, 100)               500       \n",
            "                                                                 \n",
            " dense_4 (Dense)             (None, 50)                5050      \n",
            "                                                                 \n",
            " dense_5 (Dense)             (None, 3)                 153       \n",
            "                                                                 \n",
            "=================================================================\n",
            "Total params: 5703 (22.28 KB)\n",
            "Trainable params: 5703 (22.28 KB)\n",
            "Non-trainable params: 0 (0.00 Byte)\n",
            "_________________________________________________________________\n"
          ]
        }
      ]
    },
    {
      "cell_type": "code",
      "source": [
        "# Train the model\n",
        "model.fit(x_train, y_train, batch_size=batch_size, epochs=epochs, verbose=1)"
      ],
      "metadata": {
        "colab": {
          "base_uri": "https://localhost:8080/"
        },
        "id": "NdapFyTkiHux",
        "outputId": "0e96a7b0-ba95-47e9-c63f-8532363b2f72"
      },
      "execution_count": null,
      "outputs": [
        {
          "output_type": "stream",
          "name": "stdout",
          "text": [
            "Epoch 1/70\n",
            "14/14 [==============================] - 1s 2ms/step - loss: 1.0008 - accuracy: 0.6148\n",
            "Epoch 2/70\n",
            "14/14 [==============================] - 0s 2ms/step - loss: 0.7269 - accuracy: 0.8667\n",
            "Epoch 3/70\n",
            "14/14 [==============================] - 0s 2ms/step - loss: 0.5552 - accuracy: 0.8444\n",
            "Epoch 4/70\n",
            "14/14 [==============================] - 0s 2ms/step - loss: 0.4500 - accuracy: 0.8222\n",
            "Epoch 5/70\n",
            "14/14 [==============================] - 0s 2ms/step - loss: 0.3789 - accuracy: 0.8370\n",
            "Epoch 6/70\n",
            "14/14 [==============================] - 0s 3ms/step - loss: 0.3303 - accuracy: 0.8667\n",
            "Epoch 7/70\n",
            "14/14 [==============================] - 0s 3ms/step - loss: 0.2973 - accuracy: 0.8889\n",
            "Epoch 8/70\n",
            "14/14 [==============================] - 0s 2ms/step - loss: 0.2638 - accuracy: 0.8963\n",
            "Epoch 9/70\n",
            "14/14 [==============================] - 0s 2ms/step - loss: 0.2387 - accuracy: 0.9111\n",
            "Epoch 10/70\n",
            "14/14 [==============================] - 0s 2ms/step - loss: 0.2146 - accuracy: 0.9333\n",
            "Epoch 11/70\n",
            "14/14 [==============================] - 0s 3ms/step - loss: 0.1927 - accuracy: 0.9407\n",
            "Epoch 12/70\n",
            "14/14 [==============================] - 0s 3ms/step - loss: 0.1723 - accuracy: 0.9407\n",
            "Epoch 13/70\n",
            "14/14 [==============================] - 0s 3ms/step - loss: 0.1538 - accuracy: 0.9481\n",
            "Epoch 14/70\n",
            "14/14 [==============================] - 0s 3ms/step - loss: 0.1403 - accuracy: 0.9481\n",
            "Epoch 15/70\n",
            "14/14 [==============================] - 0s 5ms/step - loss: 0.1305 - accuracy: 0.9556\n",
            "Epoch 16/70\n",
            "14/14 [==============================] - 0s 2ms/step - loss: 0.1148 - accuracy: 0.9704\n",
            "Epoch 17/70\n",
            "14/14 [==============================] - 0s 3ms/step - loss: 0.1046 - accuracy: 0.9630\n",
            "Epoch 18/70\n",
            "14/14 [==============================] - 0s 3ms/step - loss: 0.0981 - accuracy: 0.9556\n",
            "Epoch 19/70\n",
            "14/14 [==============================] - 0s 3ms/step - loss: 0.0895 - accuracy: 0.9630\n",
            "Epoch 20/70\n",
            "14/14 [==============================] - 0s 3ms/step - loss: 0.0864 - accuracy: 0.9556\n",
            "Epoch 21/70\n",
            "14/14 [==============================] - 0s 2ms/step - loss: 0.0775 - accuracy: 0.9630\n",
            "Epoch 22/70\n",
            "14/14 [==============================] - 0s 2ms/step - loss: 0.0722 - accuracy: 0.9704\n",
            "Epoch 23/70\n",
            "14/14 [==============================] - 0s 2ms/step - loss: 0.0713 - accuracy: 0.9704\n",
            "Epoch 24/70\n",
            "14/14 [==============================] - 0s 2ms/step - loss: 0.0651 - accuracy: 0.9704\n",
            "Epoch 25/70\n",
            "14/14 [==============================] - 0s 3ms/step - loss: 0.0636 - accuracy: 0.9704\n",
            "Epoch 26/70\n",
            "14/14 [==============================] - 0s 3ms/step - loss: 0.0638 - accuracy: 0.9778\n",
            "Epoch 27/70\n",
            "14/14 [==============================] - 0s 5ms/step - loss: 0.0593 - accuracy: 0.9704\n",
            "Epoch 28/70\n",
            "14/14 [==============================] - 0s 5ms/step - loss: 0.0561 - accuracy: 0.9704\n",
            "Epoch 29/70\n",
            "14/14 [==============================] - 0s 5ms/step - loss: 0.0559 - accuracy: 0.9852\n",
            "Epoch 30/70\n",
            "14/14 [==============================] - 0s 5ms/step - loss: 0.0569 - accuracy: 0.9704\n",
            "Epoch 31/70\n",
            "14/14 [==============================] - 0s 4ms/step - loss: 0.0497 - accuracy: 0.9852\n",
            "Epoch 32/70\n",
            "14/14 [==============================] - 0s 4ms/step - loss: 0.0508 - accuracy: 0.9852\n",
            "Epoch 33/70\n",
            "14/14 [==============================] - 0s 5ms/step - loss: 0.0503 - accuracy: 0.9704\n",
            "Epoch 34/70\n",
            "14/14 [==============================] - 0s 4ms/step - loss: 0.0471 - accuracy: 0.9852\n",
            "Epoch 35/70\n",
            "14/14 [==============================] - 0s 4ms/step - loss: 0.0463 - accuracy: 0.9852\n",
            "Epoch 36/70\n",
            "14/14 [==============================] - 0s 5ms/step - loss: 0.0452 - accuracy: 0.9852\n",
            "Epoch 37/70\n",
            "14/14 [==============================] - 0s 4ms/step - loss: 0.0476 - accuracy: 0.9778\n",
            "Epoch 38/70\n",
            "14/14 [==============================] - 0s 4ms/step - loss: 0.0464 - accuracy: 0.9778\n",
            "Epoch 39/70\n",
            "14/14 [==============================] - 0s 5ms/step - loss: 0.0467 - accuracy: 0.9852\n",
            "Epoch 40/70\n",
            "14/14 [==============================] - 0s 4ms/step - loss: 0.0420 - accuracy: 0.9852\n",
            "Epoch 41/70\n",
            "14/14 [==============================] - 0s 5ms/step - loss: 0.0428 - accuracy: 0.9852\n",
            "Epoch 42/70\n",
            "14/14 [==============================] - 0s 5ms/step - loss: 0.0421 - accuracy: 0.9852\n",
            "Epoch 43/70\n",
            "14/14 [==============================] - 0s 4ms/step - loss: 0.0436 - accuracy: 0.9704\n",
            "Epoch 44/70\n",
            "14/14 [==============================] - 0s 3ms/step - loss: 0.0455 - accuracy: 0.9852\n",
            "Epoch 45/70\n",
            "14/14 [==============================] - 0s 4ms/step - loss: 0.0451 - accuracy: 0.9852\n",
            "Epoch 46/70\n",
            "14/14 [==============================] - 0s 4ms/step - loss: 0.0426 - accuracy: 0.9852\n",
            "Epoch 47/70\n",
            "14/14 [==============================] - 0s 3ms/step - loss: 0.0380 - accuracy: 0.9852\n",
            "Epoch 48/70\n",
            "14/14 [==============================] - 0s 4ms/step - loss: 0.0406 - accuracy: 0.9852\n",
            "Epoch 49/70\n",
            "14/14 [==============================] - 0s 4ms/step - loss: 0.0387 - accuracy: 0.9852\n",
            "Epoch 50/70\n",
            "14/14 [==============================] - 0s 4ms/step - loss: 0.0467 - accuracy: 0.9704\n",
            "Epoch 51/70\n",
            "14/14 [==============================] - 0s 5ms/step - loss: 0.0380 - accuracy: 0.9852\n",
            "Epoch 52/70\n",
            "14/14 [==============================] - 0s 4ms/step - loss: 0.0419 - accuracy: 0.9852\n",
            "Epoch 53/70\n",
            "14/14 [==============================] - 0s 4ms/step - loss: 0.0367 - accuracy: 0.9852\n",
            "Epoch 54/70\n",
            "14/14 [==============================] - 0s 4ms/step - loss: 0.0370 - accuracy: 0.9852\n",
            "Epoch 55/70\n",
            "14/14 [==============================] - 0s 4ms/step - loss: 0.0414 - accuracy: 0.9852\n",
            "Epoch 56/70\n",
            "14/14 [==============================] - 0s 4ms/step - loss: 0.0338 - accuracy: 0.9852\n",
            "Epoch 57/70\n",
            "14/14 [==============================] - 0s 5ms/step - loss: 0.0408 - accuracy: 0.9852\n",
            "Epoch 58/70\n",
            "14/14 [==============================] - 0s 6ms/step - loss: 0.0397 - accuracy: 0.9852\n",
            "Epoch 59/70\n",
            "14/14 [==============================] - 0s 5ms/step - loss: 0.0441 - accuracy: 0.9852\n",
            "Epoch 60/70\n",
            "14/14 [==============================] - 0s 5ms/step - loss: 0.0381 - accuracy: 0.9852\n",
            "Epoch 61/70\n",
            "14/14 [==============================] - 0s 5ms/step - loss: 0.0364 - accuracy: 0.9852\n",
            "Epoch 62/70\n",
            "14/14 [==============================] - 0s 5ms/step - loss: 0.0352 - accuracy: 0.9852\n",
            "Epoch 63/70\n",
            "14/14 [==============================] - 0s 6ms/step - loss: 0.0342 - accuracy: 0.9852\n",
            "Epoch 64/70\n",
            "14/14 [==============================] - 0s 5ms/step - loss: 0.0321 - accuracy: 0.9852\n",
            "Epoch 65/70\n",
            "14/14 [==============================] - 0s 6ms/step - loss: 0.0336 - accuracy: 0.9852\n",
            "Epoch 66/70\n",
            "14/14 [==============================] - 0s 4ms/step - loss: 0.0316 - accuracy: 0.9852\n",
            "Epoch 67/70\n",
            "14/14 [==============================] - 0s 5ms/step - loss: 0.0348 - accuracy: 0.9852\n",
            "Epoch 68/70\n",
            "14/14 [==============================] - 0s 4ms/step - loss: 0.0337 - accuracy: 0.9926\n",
            "Epoch 69/70\n",
            "14/14 [==============================] - 0s 5ms/step - loss: 0.0363 - accuracy: 0.9852\n",
            "Epoch 70/70\n",
            "14/14 [==============================] - 0s 5ms/step - loss: 0.0347 - accuracy: 0.9852\n"
          ]
        },
        {
          "output_type": "execute_result",
          "data": {
            "text/plain": [
              "<keras.src.callbacks.History at 0x7c72dbd38700>"
            ]
          },
          "metadata": {},
          "execution_count": 45
        }
      ]
    },
    {
      "cell_type": "code",
      "source": [
        "# Evaluate the model\n",
        "loss, accuracy = model.evaluate(x_test, y_test, verbose=1)\n",
        "print(f'Test Accuracy: {accuracy:.4f}')"
      ],
      "metadata": {
        "colab": {
          "base_uri": "https://localhost:8080/"
        },
        "id": "XP3wq8ZDiSwZ",
        "outputId": "7f012ad9-2a50-4ca2-db7d-13c6eb0c45d7"
      },
      "execution_count": null,
      "outputs": [
        {
          "output_type": "stream",
          "name": "stdout",
          "text": [
            "1/1 [==============================] - 0s 154ms/step - loss: 0.0489 - accuracy: 1.0000\n",
            "Test Accuracy: 1.0000\n"
          ]
        }
      ]
    }
  ]
}